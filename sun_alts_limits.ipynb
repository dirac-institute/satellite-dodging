{
 "cells": [
  {
   "cell_type": "code",
   "execution_count": 1,
   "id": "63649a56",
   "metadata": {},
   "outputs": [],
   "source": [
    "# Let's see if we can compute some sun altitude limits for the different constellations"
   ]
  },
  {
   "cell_type": "code",
   "execution_count": 1,
   "id": "b2e0041a",
   "metadata": {},
   "outputs": [
    {
     "name": "stderr",
     "output_type": "stream",
     "text": [
      "\n",
      "WARNING: version mismatch between CFITSIO header (v4.000999999999999) and linked library (v4.01).\n",
      "\n",
      "\n",
      "WARNING: version mismatch between CFITSIO header (v4.000999999999999) and linked library (v4.01).\n",
      "\n",
      "\n",
      "WARNING: version mismatch between CFITSIO header (v4.000999999999999) and linked library (v4.01).\n",
      "\n"
     ]
    }
   ],
   "source": [
    "import numpy as np\n",
    "import matplotlib.pylab as plt\n",
    "%matplotlib inline\n",
    "from astropy.coordinates import get_sun, get_moon, EarthLocation, AltAz\n",
    "import astropy.units as u\n",
    "from astropy.time import Time\n",
    "from rubin_sim.utils import Site\n",
    "\n",
    "from sat_utils import starlink_constellation_v1, Constellation, starlink_constellation_v2, oneweb_constellation"
   ]
  },
  {
   "cell_type": "code",
   "execution_count": 2,
   "id": "e2ac1e52",
   "metadata": {},
   "outputs": [
    {
     "name": "stderr",
     "output_type": "stream",
     "text": [
      "WARNING: Tried to get polar motions for times after IERS data is valid. Defaulting to polar motion from the 50-yr mean for those. This may affect precision at the arcsec level. Please check your astropy.utils.iers.conf.iers_auto_url and point it to a newer version if necessary. [astropy.coordinates.builtin_frames.utils]\n"
     ]
    }
   ],
   "source": [
    "dt = 20./3600/24  # seconds to days\n",
    "\n",
    "mjd0 = 60218\n",
    "\n",
    "mjds = np.arange(mjd0, mjd0+3, dt)\n",
    "\n",
    "site = Site(\"LSST\")\n",
    "location = EarthLocation(lat=site.latitude, lon=site.longitude, height=site.height)\n",
    "t_sparse = Time(mjds, format=\"mjd\", location=location)\n",
    "\n",
    "sun = get_sun(t_sparse)\n",
    "aa = AltAz(location=location, obstime=t_sparse)\n",
    "sun_aa = sun.transform_to(aa)"
   ]
  },
  {
   "cell_type": "code",
   "execution_count": 4,
   "id": "6820e817",
   "metadata": {},
   "outputs": [
    {
     "data": {
      "text/plain": [
       "<SkyCoord (AltAz: obstime=[60218.         60218.00023148 60218.00046296 ... 60220.9993056\n",
       " 60220.99953708 60220.99976856], location=(1818941.18766967, -5208472.41295013, -3195142.63834984) m, pressure=0.0 hPa, temperature=0.0 deg_C, relative_humidity=0.0, obswl=1.0 micron): (az, alt, distance) in (deg, deg, AU)\n",
       "    [(255.96435218, -17.08091547, 1.00140552),\n",
       "     (255.91690385, -17.15071568, 1.00140551),\n",
       "     (255.86941427, -17.22050136, 1.00140549), ...,\n",
       "     (254.95467511, -16.43883548, 1.00055675),\n",
       "     (254.90707902, -16.50831572, 1.00055673),\n",
       "     (254.85944106, -16.57778034, 1.00055672)]>"
      ]
     },
     "execution_count": 4,
     "metadata": {},
     "output_type": "execute_result"
    }
   ],
   "source": [
    "sun_aa"
   ]
  },
  {
   "cell_type": "code",
   "execution_count": 5,
   "id": "c7743a7c",
   "metadata": {},
   "outputs": [],
   "source": [
    "tles = starlink_constellation_v1()\n",
    "constellation = Constellation(tles)"
   ]
  },
  {
   "cell_type": "code",
   "execution_count": 6,
   "id": "b2db3200",
   "metadata": {},
   "outputs": [],
   "source": [
    "sat_ras, sat_decs, sat_alts, sat_illums = constellation.paths_array(mjds)"
   ]
  },
  {
   "cell_type": "code",
   "execution_count": 7,
   "id": "af12f969",
   "metadata": {},
   "outputs": [
    {
     "data": {
      "text/plain": [
       "(4408, 12960)"
      ]
     },
     "execution_count": 7,
     "metadata": {},
     "output_type": "execute_result"
    }
   ],
   "source": [
    "sat_alts.shape"
   ]
  },
  {
   "cell_type": "code",
   "execution_count": 8,
   "id": "223d82ab",
   "metadata": {},
   "outputs": [
    {
     "data": {
      "text/plain": [
       "(12960,)"
      ]
     },
     "execution_count": 8,
     "metadata": {},
     "output_type": "execute_result"
    }
   ],
   "source": [
    "mjds.shape"
   ]
  },
  {
   "cell_type": "code",
   "execution_count": 9,
   "id": "4d6c6a9c",
   "metadata": {},
   "outputs": [],
   "source": [
    "n_vis = np.zeros(sat_alts.shape)\n",
    "n_vis[np.where((sat_alts > np.radians(20.)) & (sat_illums == True)) ] += 1"
   ]
  },
  {
   "cell_type": "code",
   "execution_count": 10,
   "id": "5ca06d05",
   "metadata": {},
   "outputs": [],
   "source": [
    "n_vis = np.sum(n_vis, axis=0)"
   ]
  },
  {
   "cell_type": "code",
   "execution_count": 11,
   "id": "890624e0",
   "metadata": {},
   "outputs": [
    {
     "data": {
      "text/plain": [
       "Text(0, 0.5, 'N satellites visible')"
      ]
     },
     "execution_count": 11,
     "metadata": {},
     "output_type": "execute_result"
    },
    {
     "data": {
      "image/png": "[encoded data removed]",
      "text/plain": [
       "<Figure size 432x288 with 1 Axes>"
      ]
     },
     "metadata": {
      "needs_background": "light"
     },
     "output_type": "display_data"
    }
   ],
   "source": [
    "plt.plot(mjds, n_vis)\n",
    "plt.xlabel('MJD')\n",
    "plt.ylabel('N satellites visible')"
   ]
  },
  {
   "cell_type": "code",
   "execution_count": 12,
   "id": "27df82d0",
   "metadata": {},
   "outputs": [
    {
     "data": {
      "text/plain": [
       "[<matplotlib.lines.Line2D at 0x13dd26be0>]"
      ]
     },
     "execution_count": 12,
     "metadata": {},
     "output_type": "execute_result"
    },
    {
     "data": {
      "image/png": "[encoded data removed]",
      "text/plain": [
       "<Figure size 432x288 with 1 Axes>"
      ]
     },
     "metadata": {
      "needs_background": "light"
     },
     "output_type": "display_data"
    }
   ],
   "source": [
    "plt.plot(sun_aa.alt, n_vis)\n"
   ]
  },
  {
   "cell_type": "code",
   "execution_count": 13,
   "id": "006f008e",
   "metadata": {},
   "outputs": [
    {
     "data": {
      "text/plain": [
       "-33.50917822039586"
      ]
     },
     "execution_count": 13,
     "metadata": {},
     "output_type": "execute_result"
    }
   ],
   "source": [
    "clear = np.where(n_vis == 0)\n",
    "# np.max(sun_aa.alt[clear].deg)\n",
    "nc = np.where(n_vis > 0)\n",
    "np.min(sun_aa.alt[nc].deg)"
   ]
  },
  {
   "cell_type": "code",
   "execution_count": 3,
   "id": "e7f96cde",
   "metadata": {},
   "outputs": [
    {
     "name": "stdout",
     "output_type": "stream",
     "text": [
      "<function starlink_constellation_v1 at 0x110a3d160> min illuminated sun altitude= -33.50917822039586\n",
      "<function starlink_constellation_v2 at 0x110a3d1f0> min illuminated sun altitude= -34.96104492558362\n",
      "<function oneweb_constellation at 0x110a3d280> min illuminated sun altitude= -50.392045983576345\n"
     ]
    }
   ],
   "source": [
    "\n",
    "\n",
    "for tle_maker in [starlink_constellation_v1, starlink_constellation_v2, oneweb_constellation]:\n",
    "    tles = tle_maker()\n",
    "    constellation = Constellation(tles)\n",
    "    sat_ras, sat_decs, sat_alts, sat_illums = constellation.paths_array(mjds)\n",
    "    n_vis = np.zeros(sat_alts.shape)\n",
    "    n_vis[np.where((sat_alts > np.radians(20.)) & (sat_illums == True)) ] += 1\n",
    "    n_vis = np.sum(n_vis, axis=0)\n",
    "    clear = np.where(n_vis == 0)\n",
    "    nc = np.where(n_vis > 0)\n",
    "    \n",
    "    print(tle_maker, 'min illuminated sun altitude=', np.min(sun_aa.alt[nc].deg))"
   ]
  },
  {
   "cell_type": "code",
   "execution_count": null,
   "id": "f58934e4",
   "metadata": {},
   "outputs": [],
   "source": []
  },
  {
   "cell_type": "code",
   "execution_count": null,
   "id": "6081af0d",
   "metadata": {},
   "outputs": [],
   "source": []
  }
 ],
 "metadata": {
  "kernelspec": {
   "display_name": "Python 3 (ipykernel)",
   "language": "python",
   "name": "python3"
  },
  "language_info": {
   "codemirror_mode": {
    "name": "ipython",
    "version": 3
   },
   "file_extension": ".py",
   "mimetype": "text/x-python",
   "name": "python",
   "nbconvert_exporter": "python",
   "pygments_lexer": "ipython3",
   "version": "3.9.12"
  }
 },
 "nbformat": 4,
 "nbformat_minor": 5
}
