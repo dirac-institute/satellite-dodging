{
 "cells": [
  {
   "cell_type": "code",
   "execution_count": 1,
   "id": "6d2b7cb7",
   "metadata": {},
   "outputs": [
    {
     "name": "stderr",
     "output_type": "stream",
     "text": [
      "\n",
      "WARNING: version mismatch between CFITSIO header (v4.000999999999999) and linked library (v4.01).\n",
      "\n",
      "\n",
      "WARNING: version mismatch between CFITSIO header (v4.000999999999999) and linked library (v4.01).\n",
      "\n",
      "\n",
      "WARNING: version mismatch between CFITSIO header (v4.000999999999999) and linked library (v4.01).\n",
      "\n"
     ]
    }
   ],
   "source": [
    "import os, sys, time\n",
    "import numpy as np\n",
    "import pandas as pd\n",
    "import matplotlib.pyplot as plt\n",
    "%matplotlib inline\n",
    "import healpy as hp\n",
    "\n",
    "from rubin_sim.data import get_data_dir\n",
    "import sqlite3\n",
    "\n",
    "from sat_utils import Constellation, starlink_constellation_v1"
   ]
  },
  {
   "cell_type": "code",
   "execution_count": 2,
   "id": "f7ed1092",
   "metadata": {},
   "outputs": [],
   "source": [
    "dd = get_data_dir()\n",
    "baseline_file = os.path.join(dd,'sim_baseline/baseline.db')\n",
    "\n",
    "# Conenct to the sqlite database\n",
    "con = sqlite3.connect(baseline_file)\n",
    "\n",
    "# Load up the first year\n",
    "df = pd.read_sql('select * from observations where night < 366 limit 10;', con)\n",
    "\n",
    "con.close()"
   ]
  },
  {
   "cell_type": "code",
   "execution_count": null,
   "id": "5f5ea74c",
   "metadata": {},
   "outputs": [],
   "source": []
  },
  {
   "cell_type": "code",
   "execution_count": 3,
   "id": "56cec822",
   "metadata": {},
   "outputs": [],
   "source": [
    "# Make a satellite constellation\n",
    "tles = starlink_constellation_v1()\n",
    "constellation = Constellation(tles)"
   ]
  },
  {
   "cell_type": "code",
   "execution_count": 4,
   "id": "e03c63b9",
   "metadata": {},
   "outputs": [
    {
     "name": "stdout",
     "output_type": "stream",
     "text": [
      "progress = 90.000%runtime = %f min 1.3940635522206624\n"
     ]
    }
   ],
   "source": [
    "lengths_ns = []\n",
    "n_rows = len(df)\n",
    "t1 = time.time()\n",
    "for index, row in df.iterrows():\n",
    "    \n",
    "    lengths_ns.append(constellation.check_pointing(row['altitude'], row['azimuth'],\n",
    "                                    row['observationStartMJD'], row['visitTime']))\n",
    "    \n",
    "    # A simple progress bar\n",
    "    progress = index/float(n_rows)*100\n",
    "    text = \"\\rprogress = %.3f%%\" % progress\n",
    "\n",
    "    sys.stdout.write(text) \n",
    "    sys.stdout.flush() \n",
    "t2 = time.time()\n",
    "print('runtime = %f min', ((t2-t1)/60.) )"
   ]
  },
  {
   "cell_type": "code",
   "execution_count": 5,
   "id": "33354fcb",
   "metadata": {},
   "outputs": [
    {
     "data": {
      "text/plain": [
       "[(0.0, 0),\n",
       " (0.0, 0),\n",
       " (0.0, 0),\n",
       " (0.0, 0),\n",
       " (0.0, 0),\n",
       " (0.0, 0),\n",
       " (1.0630268755184136, 1),\n",
       " (0.0, 0),\n",
       " (0.0, 0),\n",
       " (0.0, 0)]"
      ]
     },
     "execution_count": 5,
     "metadata": {},
     "output_type": "execute_result"
    }
   ],
   "source": [
    "# First column is length of streaks in degrees, second is number of satellites making the streaks.\n",
    "lengths_ns"
   ]
  },
  {
   "cell_type": "code",
   "execution_count": 6,
   "id": "cb008878",
   "metadata": {},
   "outputs": [],
   "source": [
    "\n",
    "lengths_ns = np.array(lengths_ns)\n",
    "names = ['observationId', 'streak_length_sum', 'n_streaks']\n",
    "types = [int, float, int]\n",
    "result = np.zeros(len(df), dtype=list(zip(names, types)))\n",
    "\n",
    "result['observationId'] = df['observationId'].values\n",
    "result['streak_length_sum'] = lengths_ns[:, 0]\n",
    "result['n_streaks'] = lengths_ns[:, 1]\n",
    "\n",
    "# And here we would save the result. Hopefully in a file that had a name that made it clear what\n",
    "# database we used as input\n"
   ]
  },
  {
   "cell_type": "code",
   "execution_count": 7,
   "id": "1798762d",
   "metadata": {},
   "outputs": [
    {
     "data": {
      "text/plain": [
       "array([(0, 0.        , 0), (1, 0.        , 0), (2, 0.        , 0),\n",
       "       (3, 0.        , 0), (4, 0.        , 0), (5, 0.        , 0),\n",
       "       (6, 1.06302688, 1), (7, 0.        , 0), (8, 0.        , 0),\n",
       "       (9, 0.        , 0)],\n",
       "      dtype=[('observationId', '<i8'), ('streak_length_sum', '<f8'), ('n_streaks', '<i8')])"
      ]
     },
     "execution_count": 7,
     "metadata": {},
     "output_type": "execute_result"
    }
   ],
   "source": [
    "result"
   ]
  },
  {
   "cell_type": "code",
   "execution_count": null,
   "id": "adfdff86",
   "metadata": {},
   "outputs": [],
   "source": []
  },
  {
   "cell_type": "code",
   "execution_count": null,
   "id": "06a17caf",
   "metadata": {},
   "outputs": [],
   "source": []
  }
 ],
 "metadata": {
  "kernelspec": {
   "display_name": "Python 3 (ipykernel)",
   "language": "python",
   "name": "python3"
  },
  "language_info": {
   "codemirror_mode": {
    "name": "ipython",
    "version": 3
   },
   "file_extension": ".py",
   "mimetype": "text/x-python",
   "name": "python",
   "nbconvert_exporter": "python",
   "pygments_lexer": "ipython3",
   "version": "3.9.12"
  }
 },
 "nbformat": 4,
 "nbformat_minor": 5
}
