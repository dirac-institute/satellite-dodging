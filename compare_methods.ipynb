{
 "cells": [
  {
   "cell_type": "code",
   "execution_count": 1,
   "id": "56760cda",
   "metadata": {},
   "outputs": [
    {
     "name": "stderr",
     "output_type": "stream",
     "text": [
      "\n",
      "WARNING: version mismatch between CFITSIO header (v4.000999999999999) and linked library (v4.01).\n",
      "\n",
      "\n",
      "WARNING: version mismatch between CFITSIO header (v4.000999999999999) and linked library (v4.01).\n",
      "\n",
      "\n",
      "WARNING: version mismatch between CFITSIO header (v4.000999999999999) and linked library (v4.01).\n",
      "\n"
     ]
    }
   ],
   "source": [
    "import os, sys, time\n",
    "import numpy as np\n",
    "import pandas as pd\n",
    "import matplotlib.pyplot as plt\n",
    "%matplotlib inline\n",
    "import healpy as hp\n",
    "\n",
    "from rubin_sim.data import get_data_dir\n",
    "import sqlite3\n",
    "\n",
    "from sat_utils import Constellation, starlink_constellation_v1, starlink_constellation_v2"
   ]
  },
  {
   "cell_type": "code",
   "execution_count": 2,
   "id": "088ebb4b",
   "metadata": {},
   "outputs": [],
   "source": [
    "# load up some visits\n",
    "\n",
    "limit = 900\n",
    "\n",
    "dd = get_data_dir()\n",
    "baseline_file = os.path.join(dd,'sim_baseline/baseline.db')\n",
    "\n",
    "# Conenct to the sqlite database\n",
    "con = sqlite3.connect(baseline_file)\n",
    "\n",
    "# Load up the first year\n",
    "df = pd.read_sql('select * from observations where night < 1 and sunAlt > -24;', con)\n",
    "\n",
    "con.close()"
   ]
  },
  {
   "cell_type": "code",
   "execution_count": 3,
   "id": "91afc1b0",
   "metadata": {},
   "outputs": [
    {
     "data": {
      "text/html": [
       "<div>\n",
       "<style scoped>\n",
       "    .dataframe tbody tr th:only-of-type {\n",
       "        vertical-align: middle;\n",
       "    }\n",
       "\n",
       "    .dataframe tbody tr th {\n",
       "        vertical-align: top;\n",
       "    }\n",
       "\n",
       "    .dataframe thead th {\n",
       "        text-align: right;\n",
       "    }\n",
       "</style>\n",
       "<table border=\"1\" class=\"dataframe\">\n",
       "  <thead>\n",
       "    <tr style=\"text-align: right;\">\n",
       "      <th></th>\n",
       "      <th>observationId</th>\n",
       "      <th>fieldRA</th>\n",
       "      <th>fieldDec</th>\n",
       "      <th>observationStartMJD</th>\n",
       "      <th>flush_by_mjd</th>\n",
       "      <th>visitExposureTime</th>\n",
       "      <th>filter</th>\n",
       "      <th>rotSkyPos</th>\n",
       "      <th>rotSkyPos_desired</th>\n",
       "      <th>numExposures</th>\n",
       "      <th>...</th>\n",
       "      <th>sunAz</th>\n",
       "      <th>sunRA</th>\n",
       "      <th>sunDec</th>\n",
       "      <th>moonRA</th>\n",
       "      <th>moonDec</th>\n",
       "      <th>moonDistance</th>\n",
       "      <th>solarElong</th>\n",
       "      <th>moonPhase</th>\n",
       "      <th>cummTelAz</th>\n",
       "      <th>scripted_id</th>\n",
       "    </tr>\n",
       "  </thead>\n",
       "  <tbody>\n",
       "    <tr>\n",
       "      <th>0</th>\n",
       "      <td>0</td>\n",
       "      <td>310.024480</td>\n",
       "      <td>-60.812928</td>\n",
       "      <td>60218.001806</td>\n",
       "      <td>60218.023576</td>\n",
       "      <td>30.0</td>\n",
       "      <td>y</td>\n",
       "      <td>-297.249225</td>\n",
       "      <td>-297.249225</td>\n",
       "      <td>2</td>\n",
       "      <td>...</td>\n",
       "      <td>255.593220</td>\n",
       "      <td>186.644048</td>\n",
       "      <td>-2.870827</td>\n",
       "      <td>27.609463</td>\n",
       "      <td>11.956111</td>\n",
       "      <td>94.490314</td>\n",
       "      <td>102.958651</td>\n",
       "      <td>87.407902</td>\n",
       "      <td>169.454444</td>\n",
       "      <td>0</td>\n",
       "    </tr>\n",
       "    <tr>\n",
       "      <th>1</th>\n",
       "      <td>1</td>\n",
       "      <td>310.601871</td>\n",
       "      <td>-63.561425</td>\n",
       "      <td>60218.002254</td>\n",
       "      <td>60218.023576</td>\n",
       "      <td>30.0</td>\n",
       "      <td>y</td>\n",
       "      <td>-297.708278</td>\n",
       "      <td>-297.708278</td>\n",
       "      <td>2</td>\n",
       "      <td>...</td>\n",
       "      <td>255.500445</td>\n",
       "      <td>186.644453</td>\n",
       "      <td>-2.871001</td>\n",
       "      <td>27.615338</td>\n",
       "      <td>11.959438</td>\n",
       "      <td>95.029204</td>\n",
       "      <td>101.743959</td>\n",
       "      <td>87.404494</td>\n",
       "      <td>170.502875</td>\n",
       "      <td>0</td>\n",
       "    </tr>\n",
       "    <tr>\n",
       "      <th>2</th>\n",
       "      <td>2</td>\n",
       "      <td>311.292611</td>\n",
       "      <td>-66.317774</td>\n",
       "      <td>60218.002703</td>\n",
       "      <td>60218.023576</td>\n",
       "      <td>30.0</td>\n",
       "      <td>y</td>\n",
       "      <td>-297.909620</td>\n",
       "      <td>-297.909620</td>\n",
       "      <td>2</td>\n",
       "      <td>...</td>\n",
       "      <td>255.407493</td>\n",
       "      <td>186.644858</td>\n",
       "      <td>-2.871176</td>\n",
       "      <td>27.621208</td>\n",
       "      <td>11.962765</td>\n",
       "      <td>95.563446</td>\n",
       "      <td>100.497860</td>\n",
       "      <td>87.401088</td>\n",
       "      <td>171.406738</td>\n",
       "      <td>0</td>\n",
       "    </tr>\n",
       "    <tr>\n",
       "      <th>3</th>\n",
       "      <td>3</td>\n",
       "      <td>312.140731</td>\n",
       "      <td>-69.082666</td>\n",
       "      <td>60218.003152</td>\n",
       "      <td>60218.023576</td>\n",
       "      <td>30.0</td>\n",
       "      <td>y</td>\n",
       "      <td>-297.838337</td>\n",
       "      <td>-297.838337</td>\n",
       "      <td>2</td>\n",
       "      <td>...</td>\n",
       "      <td>255.314364</td>\n",
       "      <td>186.645264</td>\n",
       "      <td>-2.871350</td>\n",
       "      <td>27.627073</td>\n",
       "      <td>11.966093</td>\n",
       "      <td>96.092842</td>\n",
       "      <td>99.221261</td>\n",
       "      <td>87.397685</td>\n",
       "      <td>172.197791</td>\n",
       "      <td>0</td>\n",
       "    </tr>\n",
       "    <tr>\n",
       "      <th>4</th>\n",
       "      <td>4</td>\n",
       "      <td>304.170163</td>\n",
       "      <td>-73.375442</td>\n",
       "      <td>60218.003623</td>\n",
       "      <td>60218.023576</td>\n",
       "      <td>30.0</td>\n",
       "      <td>y</td>\n",
       "      <td>-309.290623</td>\n",
       "      <td>-309.290623</td>\n",
       "      <td>2</td>\n",
       "      <td>...</td>\n",
       "      <td>255.216260</td>\n",
       "      <td>186.645690</td>\n",
       "      <td>-2.871533</td>\n",
       "      <td>27.633232</td>\n",
       "      <td>11.969593</td>\n",
       "      <td>99.605370</td>\n",
       "      <td>94.821142</td>\n",
       "      <td>87.394110</td>\n",
       "      <td>177.239803</td>\n",
       "      <td>0</td>\n",
       "    </tr>\n",
       "    <tr>\n",
       "      <th>...</th>\n",
       "      <td>...</td>\n",
       "      <td>...</td>\n",
       "      <td>...</td>\n",
       "      <td>...</td>\n",
       "      <td>...</td>\n",
       "      <td>...</td>\n",
       "      <td>...</td>\n",
       "      <td>...</td>\n",
       "      <td>...</td>\n",
       "      <td>...</td>\n",
       "      <td>...</td>\n",
       "      <td>...</td>\n",
       "      <td>...</td>\n",
       "      <td>...</td>\n",
       "      <td>...</td>\n",
       "      <td>...</td>\n",
       "      <td>...</td>\n",
       "      <td>...</td>\n",
       "      <td>...</td>\n",
       "      <td>...</td>\n",
       "      <td>...</td>\n",
       "    </tr>\n",
       "    <tr>\n",
       "      <th>118</th>\n",
       "      <td>830</td>\n",
       "      <td>336.319706</td>\n",
       "      <td>-85.448079</td>\n",
       "      <td>60218.392486</td>\n",
       "      <td>60218.404999</td>\n",
       "      <td>30.0</td>\n",
       "      <td>i</td>\n",
       "      <td>-56.043578</td>\n",
       "      <td>-56.043578</td>\n",
       "      <td>2</td>\n",
       "      <td>...</td>\n",
       "      <td>101.469398</td>\n",
       "      <td>186.997138</td>\n",
       "      <td>-3.022386</td>\n",
       "      <td>31.259086</td>\n",
       "      <td>14.500684</td>\n",
       "      <td>101.856712</td>\n",
       "      <td>90.893919</td>\n",
       "      <td>85.254586</td>\n",
       "      <td>146.948266</td>\n",
       "      <td>0</td>\n",
       "    </tr>\n",
       "    <tr>\n",
       "      <th>119</th>\n",
       "      <td>831</td>\n",
       "      <td>294.594225</td>\n",
       "      <td>-87.438033</td>\n",
       "      <td>60218.393053</td>\n",
       "      <td>60218.404999</td>\n",
       "      <td>30.0</td>\n",
       "      <td>i</td>\n",
       "      <td>-96.112005</td>\n",
       "      <td>-96.112005</td>\n",
       "      <td>2</td>\n",
       "      <td>...</td>\n",
       "      <td>101.360003</td>\n",
       "      <td>186.997650</td>\n",
       "      <td>-3.022606</td>\n",
       "      <td>31.264624</td>\n",
       "      <td>14.503548</td>\n",
       "      <td>104.786408</td>\n",
       "      <td>87.754422</td>\n",
       "      <td>85.251529</td>\n",
       "      <td>143.526699</td>\n",
       "      <td>0</td>\n",
       "    </tr>\n",
       "    <tr>\n",
       "      <th>120</th>\n",
       "      <td>832</td>\n",
       "      <td>324.991600</td>\n",
       "      <td>-82.868303</td>\n",
       "      <td>60218.393578</td>\n",
       "      <td>60218.404999</td>\n",
       "      <td>30.0</td>\n",
       "      <td>i</td>\n",
       "      <td>-68.489767</td>\n",
       "      <td>-68.489767</td>\n",
       "      <td>2</td>\n",
       "      <td>...</td>\n",
       "      <td>101.258784</td>\n",
       "      <td>186.998125</td>\n",
       "      <td>-3.022809</td>\n",
       "      <td>31.269767</td>\n",
       "      <td>14.506202</td>\n",
       "      <td>101.548293</td>\n",
       "      <td>92.280883</td>\n",
       "      <td>85.248692</td>\n",
       "      <td>149.115181</td>\n",
       "      <td>0</td>\n",
       "    </tr>\n",
       "    <tr>\n",
       "      <th>121</th>\n",
       "      <td>833</td>\n",
       "      <td>302.751653</td>\n",
       "      <td>-81.835351</td>\n",
       "      <td>60218.394084</td>\n",
       "      <td>60218.404999</td>\n",
       "      <td>30.0</td>\n",
       "      <td>i</td>\n",
       "      <td>-90.162716</td>\n",
       "      <td>-90.162716</td>\n",
       "      <td>2</td>\n",
       "      <td>...</td>\n",
       "      <td>101.161561</td>\n",
       "      <td>186.998582</td>\n",
       "      <td>-3.023006</td>\n",
       "      <td>31.274722</td>\n",
       "      <td>14.508754</td>\n",
       "      <td>104.149030</td>\n",
       "      <td>90.539605</td>\n",
       "      <td>85.245958</td>\n",
       "      <td>147.872290</td>\n",
       "      <td>0</td>\n",
       "    </tr>\n",
       "    <tr>\n",
       "      <th>122</th>\n",
       "      <td>834</td>\n",
       "      <td>319.697784</td>\n",
       "      <td>-80.157919</td>\n",
       "      <td>60218.394569</td>\n",
       "      <td>60218.404999</td>\n",
       "      <td>30.0</td>\n",
       "      <td>i</td>\n",
       "      <td>-74.792911</td>\n",
       "      <td>-74.792911</td>\n",
       "      <td>2</td>\n",
       "      <td>...</td>\n",
       "      <td>101.068535</td>\n",
       "      <td>186.999020</td>\n",
       "      <td>-3.023194</td>\n",
       "      <td>31.279479</td>\n",
       "      <td>14.511200</td>\n",
       "      <td>101.221223</td>\n",
       "      <td>93.657493</td>\n",
       "      <td>85.243335</td>\n",
       "      <td>151.189862</td>\n",
       "      <td>0</td>\n",
       "    </tr>\n",
       "  </tbody>\n",
       "</table>\n",
       "<p>123 rows × 44 columns</p>\n",
       "</div>"
      ],
      "text/plain": [
       "     observationId     fieldRA   fieldDec  observationStartMJD  flush_by_mjd  \\\n",
       "0                0  310.024480 -60.812928         60218.001806  60218.023576   \n",
       "1                1  310.601871 -63.561425         60218.002254  60218.023576   \n",
       "2                2  311.292611 -66.317774         60218.002703  60218.023576   \n",
       "3                3  312.140731 -69.082666         60218.003152  60218.023576   \n",
       "4                4  304.170163 -73.375442         60218.003623  60218.023576   \n",
       "..             ...         ...        ...                  ...           ...   \n",
       "118            830  336.319706 -85.448079         60218.392486  60218.404999   \n",
       "119            831  294.594225 -87.438033         60218.393053  60218.404999   \n",
       "120            832  324.991600 -82.868303         60218.393578  60218.404999   \n",
       "121            833  302.751653 -81.835351         60218.394084  60218.404999   \n",
       "122            834  319.697784 -80.157919         60218.394569  60218.404999   \n",
       "\n",
       "     visitExposureTime filter   rotSkyPos  rotSkyPos_desired  numExposures  \\\n",
       "0                 30.0      y -297.249225        -297.249225             2   \n",
       "1                 30.0      y -297.708278        -297.708278             2   \n",
       "2                 30.0      y -297.909620        -297.909620             2   \n",
       "3                 30.0      y -297.838337        -297.838337             2   \n",
       "4                 30.0      y -309.290623        -309.290623             2   \n",
       "..                 ...    ...         ...                ...           ...   \n",
       "118               30.0      i  -56.043578         -56.043578             2   \n",
       "119               30.0      i  -96.112005         -96.112005             2   \n",
       "120               30.0      i  -68.489767         -68.489767             2   \n",
       "121               30.0      i  -90.162716         -90.162716             2   \n",
       "122               30.0      i  -74.792911         -74.792911             2   \n",
       "\n",
       "     ...       sunAz       sunRA    sunDec     moonRA    moonDec  \\\n",
       "0    ...  255.593220  186.644048 -2.870827  27.609463  11.956111   \n",
       "1    ...  255.500445  186.644453 -2.871001  27.615338  11.959438   \n",
       "2    ...  255.407493  186.644858 -2.871176  27.621208  11.962765   \n",
       "3    ...  255.314364  186.645264 -2.871350  27.627073  11.966093   \n",
       "4    ...  255.216260  186.645690 -2.871533  27.633232  11.969593   \n",
       "..   ...         ...         ...       ...        ...        ...   \n",
       "118  ...  101.469398  186.997138 -3.022386  31.259086  14.500684   \n",
       "119  ...  101.360003  186.997650 -3.022606  31.264624  14.503548   \n",
       "120  ...  101.258784  186.998125 -3.022809  31.269767  14.506202   \n",
       "121  ...  101.161561  186.998582 -3.023006  31.274722  14.508754   \n",
       "122  ...  101.068535  186.999020 -3.023194  31.279479  14.511200   \n",
       "\n",
       "     moonDistance  solarElong  moonPhase   cummTelAz  scripted_id  \n",
       "0       94.490314  102.958651  87.407902  169.454444            0  \n",
       "1       95.029204  101.743959  87.404494  170.502875            0  \n",
       "2       95.563446  100.497860  87.401088  171.406738            0  \n",
       "3       96.092842   99.221261  87.397685  172.197791            0  \n",
       "4       99.605370   94.821142  87.394110  177.239803            0  \n",
       "..            ...         ...        ...         ...          ...  \n",
       "118    101.856712   90.893919  85.254586  146.948266            0  \n",
       "119    104.786408   87.754422  85.251529  143.526699            0  \n",
       "120    101.548293   92.280883  85.248692  149.115181            0  \n",
       "121    104.149030   90.539605  85.245958  147.872290            0  \n",
       "122    101.221223   93.657493  85.243335  151.189862            0  \n",
       "\n",
       "[123 rows x 44 columns]"
      ]
     },
     "execution_count": 3,
     "metadata": {},
     "output_type": "execute_result"
    }
   ],
   "source": [
    "# data frame with a list of observations\n",
    "df"
   ]
  },
  {
   "cell_type": "code",
   "execution_count": 4,
   "id": "87e5aa08",
   "metadata": {},
   "outputs": [],
   "source": [
    "# Make a satellite constellation\n",
    "tles = starlink_constellation_v2()\n",
    "constellation = Constellation(tles)"
   ]
  },
  {
   "cell_type": "code",
   "execution_count": 5,
   "id": "f951281d",
   "metadata": {},
   "outputs": [
    {
     "name": "stdout",
     "output_type": "stream",
     "text": [
      "progress = 99.187%runtime = 109.22 min\n"
     ]
    }
   ],
   "source": [
    "# Check the first method\n",
    "lengths = []\n",
    "nstreaks = []\n",
    "n_rows = len(df)\n",
    "t1 = time.time()\n",
    "for index, row in df.iterrows():\n",
    "    length, streak = constellation.check_pointing(row['altitude'], row['azimuth'],\n",
    "                                    row['observationStartMJD'], row['visitTime'])\n",
    "    lengths.append(length)\n",
    "    nstreaks.append(streak)\n",
    "    # A simple progress bar\n",
    "    progress = index/float(n_rows)*100\n",
    "    text = \"\\rprogress = %.3f%%\" % progress\n",
    "    sys.stdout.write(text) \n",
    "    sys.stdout.flush() \n",
    "t2 = time.time()\n",
    "print('runtime = %.2f min' % ((t2-t1)/60.) )"
   ]
  },
  {
   "cell_type": "code",
   "execution_count": 5,
   "id": "dac3dc1b",
   "metadata": {},
   "outputs": [
    {
     "name": "stdout",
     "output_type": "stream",
     "text": [
      "runtime = 1.76 min\n"
     ]
    }
   ],
   "source": [
    "# check the new method\n",
    "t1 = time.time()\n",
    "\n",
    "fast_lengths, fast_nstreaks = constellation.check_pointings(df['fieldRA'].values, df['fieldDec'].values,\n",
    "                                                           df['observationStartMJD'].values,\n",
    "                                                           df['visitTime'].values)\n",
    "t2 = time.time()\n",
    "print('runtime = %.2f min' % ((t2-t1)/60.) )\n"
   ]
  },
  {
   "cell_type": "code",
   "execution_count": 7,
   "id": "b2746d96",
   "metadata": {},
   "outputs": [
    {
     "data": {
      "text/plain": [
       "array([5.60881736, 0.75254572, 1.84317523, 0.        , 0.        ,\n",
       "       3.76330622, 5.76146688, 1.95945313, 2.71423987, 3.48625167,\n",
       "       0.        , 1.67194322, 0.        , 0.        , 5.31168829,\n",
       "       1.27700702, 5.01722929, 3.32201085, 0.        , 0.        ,\n",
       "       0.        , 0.        , 0.        , 0.        , 0.        ,\n",
       "       3.10784907, 3.42951415, 0.        , 0.        , 0.        ,\n",
       "       0.        , 0.        , 0.        , 0.        , 0.        ,\n",
       "       0.        , 0.        , 0.        , 0.        , 0.        ,\n",
       "       0.        , 0.        , 0.        , 0.        , 0.        ,\n",
       "       0.        , 3.45889291, 3.45602422, 2.44527104, 0.09447145,\n",
       "       2.40679282, 0.        , 0.        , 0.        , 0.        ,\n",
       "       0.        , 0.        , 5.70571889, 0.        , 0.        ,\n",
       "       0.        , 0.        , 2.66739714, 0.        , 0.        ,\n",
       "       0.        , 0.        , 0.        , 0.        , 3.47346659,\n",
       "       4.23765946, 3.396428  , 3.1004066 , 0.        , 3.49865418,\n",
       "       2.80458581, 3.06694347, 1.90924315, 3.4304154 , 3.12457333,\n",
       "       3.41687926, 0.        , 3.02223541, 0.        , 0.        ,\n",
       "       0.        , 0.        , 0.        , 0.        , 0.        ,\n",
       "       3.47730163, 0.20866026, 6.63787312, 0.        , 2.50204628,\n",
       "       8.52520439, 2.08970324, 5.25200752, 4.71351147, 1.30778639,\n",
       "       2.31261539, 5.49832011, 3.1622012 , 2.79664334, 3.31138344,\n",
       "       2.19875138, 3.79613969, 6.83407967, 8.55302902, 3.36037908,\n",
       "       9.08461266, 1.17953265, 0.        , 2.21442386, 2.64017943,\n",
       "       0.87394315, 0.70892988, 7.38885961, 1.26810847, 1.54259998,\n",
       "       7.34237665, 8.90405121, 3.73429157])"
      ]
     },
     "execution_count": 7,
     "metadata": {},
     "output_type": "execute_result"
    }
   ],
   "source": [
    "np.array(lengths)"
   ]
  },
  {
   "cell_type": "code",
   "execution_count": 6,
   "id": "c10c621b",
   "metadata": {},
   "outputs": [
    {
     "data": {
      "text/plain": [
       "array([5.24494164, 0.        , 0.84980104, 0.        , 0.        ,\n",
       "       4.0196608 , 5.68250975, 4.56798258, 2.43178029, 3.49401963,\n",
       "       0.        , 1.48370243, 0.        , 0.71221995, 4.92694916,\n",
       "       1.50148907, 5.25278645, 3.38452677, 0.        , 0.        ,\n",
       "       0.        , 0.        , 0.        , 0.        , 0.        ,\n",
       "       6.28575083, 3.45356923, 0.        , 0.        , 3.49320036,\n",
       "       3.4831685 , 0.        , 3.11625458, 3.63124106, 2.03344696,\n",
       "       3.48579985, 0.        , 1.20634559, 1.23421425, 0.        ,\n",
       "       0.        , 0.        , 0.        , 0.        , 0.        ,\n",
       "       0.        , 2.88524625, 3.42926493, 2.41624941, 0.10456003,\n",
       "       2.39798786, 0.        , 0.        , 0.        , 0.        ,\n",
       "       0.68815958, 0.        , 5.42598352, 4.68407058, 0.        ,\n",
       "       6.03953697, 2.05477666, 2.73146229, 0.        , 0.        ,\n",
       "       0.        , 0.        , 3.33445358, 0.        , 3.48322778,\n",
       "       4.7005672 , 6.1432749 , 5.16306259, 1.84513616, 6.20478523,\n",
       "       6.13606535, 7.84027318, 4.22739466, 3.4097772 , 4.91502697,\n",
       "       6.0471108 , 6.50403419, 3.04025189, 0.        , 3.46386575,\n",
       "       3.48121663, 0.        , 0.        , 3.40025065, 3.16589713,\n",
       "       3.48602087, 0.49884162, 9.79360357, 0.        , 2.56570676,\n",
       "       8.43161545, 2.12646306, 5.38419013, 4.62931931, 1.44610663,\n",
       "       2.36734051, 5.4615404 , 3.20639022, 2.66246792, 3.4008025 ,\n",
       "       2.49849597, 3.8316048 , 7.32038766, 8.71788488, 3.34597176,\n",
       "       9.39453374, 1.64092068, 0.        , 2.11241421, 2.60473669,\n",
       "       0.        , 0.70892959, 7.10362691, 1.38720725, 1.72144224,\n",
       "       7.44995195, 9.04740046, 2.97257903])"
      ]
     },
     "execution_count": 6,
     "metadata": {},
     "output_type": "execute_result"
    }
   ],
   "source": [
    "fast_lengths"
   ]
  },
  {
   "cell_type": "code",
   "execution_count": 9,
   "id": "5be729e6",
   "metadata": {},
   "outputs": [
    {
     "name": "stderr",
     "output_type": "stream",
     "text": [
      "/var/folders/05/z_zc9f654c5dlw06t4s_d68w0000gn/T/ipykernel_55912/2006847437.py:1: RuntimeWarning: divide by zero encountered in true_divide\n",
      "  (fast_lengths-np.array(lengths))/fast_lengths\n",
      "/var/folders/05/z_zc9f654c5dlw06t4s_d68w0000gn/T/ipykernel_55912/2006847437.py:1: RuntimeWarning: invalid value encountered in true_divide\n",
      "  (fast_lengths-np.array(lengths))/fast_lengths\n"
     ]
    },
    {
     "data": {
      "text/plain": [
       "array([-0.0697722 ,        -inf, -1.17024707,         nan,         nan,\n",
       "        0.06449719, -0.01430565,  0.57113405, -0.11580356,  0.0021912 ,\n",
       "               nan, -0.12595113,         nan,  1.        , -0.07882363,\n",
       "        0.15163496,  0.04489284,  0.01819211,         nan,         nan,\n",
       "               nan,         nan,         nan,         nan,         nan,\n",
       "        0.50559353,  0.00704577,         nan,         nan,  1.        ,\n",
       "        1.        ,         nan,  1.        ,  1.        ,  1.        ,\n",
       "        1.        ,         nan,  1.        ,  1.        ,         nan,\n",
       "               nan,         nan,         nan,         nan,         nan,\n",
       "               nan, -0.19919763, -0.00790511, -0.01228879,  0.09726079,\n",
       "       -0.00297195,         nan,         nan,         nan,         nan,\n",
       "        1.        ,         nan, -0.05172893,  1.        ,         nan,\n",
       "        1.        ,  1.        ,  0.02354661,         nan,         nan,\n",
       "               nan,         nan,  1.        ,         nan,  0.00274244,\n",
       "       -0.10137421,  0.44699311,  0.40009421,  1.        ,  0.4364343 ,\n",
       "        0.54282363,  0.60875042,  0.54855273, -0.00613577,  0.36414208,\n",
       "        0.43551196,  1.        ,  0.00638019,         nan,  1.        ,\n",
       "        1.        ,         nan,         nan,  1.        ,  1.        ,\n",
       "        0.00255831,        -inf,  0.3222572 ,         nan,  0.02352516,\n",
       "       -0.01059758,  0.01874064,  0.02472863, -0.01858287,  0.09596638,\n",
       "        0.02216394, -0.0057423 ,  0.01316229, -0.13291257,  0.02619749,\n",
       "        0.11997519,  0.00810472,  0.06629061,  0.01915391, -0.00388924,\n",
       "        0.03325743,  0.27930407,         nan, -0.04845167, -0.01503861,\n",
       "              -inf, -0.00131525, -0.03990583,  0.08334629,  0.10192731,\n",
       "        0.01373405,  0.01597695, -0.25703017])"
      ]
     },
     "execution_count": 9,
     "metadata": {},
     "output_type": "execute_result"
    }
   ],
   "source": [
    "(fast_lengths-np.array(lengths))/fast_lengths"
   ]
  },
  {
   "cell_type": "code",
   "execution_count": null,
   "id": "f630f38e",
   "metadata": {},
   "outputs": [],
   "source": []
  },
  {
   "cell_type": "code",
   "execution_count": 10,
   "id": "bc3d0734",
   "metadata": {},
   "outputs": [
    {
     "data": {
      "text/plain": [
       "(array([5.24300159, 0.        , 0.84929281, 0.        , 0.        ,\n",
       "        4.02276314, 5.68020782, 4.56891743, 2.43254276, 3.49390752,\n",
       "        0.        , 1.48491633, 0.        , 0.7153066 , 4.92359281,\n",
       "        1.50525654, 5.25305378, 3.38356505, 0.        , 0.        ,\n",
       "        0.        , 0.        , 0.        , 0.        , 0.        ,\n",
       "        6.28602023, 3.45384917, 0.        , 0.        , 3.49320836,\n",
       "        3.48334035, 0.        , 3.11699908, 3.63141714, 2.03523595,\n",
       "        3.48592119, 0.        , 1.20013016, 1.2336049 , 0.        ,\n",
       "        0.        , 0.        , 0.        , 0.        , 0.        ,\n",
       "        0.        , 2.88433934, 3.42891825, 2.4155864 , 0.10464977,\n",
       "        2.39966115, 0.        , 0.        , 0.        , 0.        ,\n",
       "        0.68911357, 0.        , 5.42508504, 4.68638917, 0.        ,\n",
       "        6.03850679, 2.05479069, 2.73171988, 0.        , 0.        ,\n",
       "        0.        , 0.        , 3.33467124, 0.        , 3.48301857,\n",
       "        3.84761095, 6.1417463 , 5.16815578, 1.85096816, 6.20806798,\n",
       "        6.13458179, 7.83884154, 4.22916094, 3.40949553, 4.9139489 ,\n",
       "        6.05305869, 6.50116107, 3.04164166, 0.        , 3.46441696,\n",
       "        3.48103494, 0.        , 0.        , 3.39912477, 3.16414275,\n",
       "        3.48622047, 0.        , 9.79408877, 0.        , 2.56232539,\n",
       "        8.43580527, 2.12961356, 5.38517554, 4.6275189 , 1.44661256,\n",
       "        2.36503386, 5.4669274 , 3.20437816, 2.46854296, 3.40046715,\n",
       "        2.49851067, 3.82715773, 7.31927912, 8.72005216, 3.34736039,\n",
       "        9.39713734, 1.63665784, 0.        , 2.1120896 , 2.60106305,\n",
       "        0.        , 0.70799868, 7.1053161 , 1.38341062, 1.71767831,\n",
       "        7.44462144, 9.04862054, 2.97072551]),\n",
       " array([3, 0, 1, 0, 0, 2, 2, 3, 1, 1, 0, 1, 0, 1, 2, 1, 2, 2, 0, 0, 0, 0,\n",
       "        0, 0, 0, 2, 1, 0, 0, 1, 1, 0, 1, 2, 1, 1, 0, 1, 1, 0, 0, 0, 0, 0,\n",
       "        0, 0, 1, 1, 1, 1, 2, 0, 0, 0, 0, 1, 0, 2, 2, 0, 2, 1, 1, 0, 0, 0,\n",
       "        0, 1, 0, 1, 2, 2, 2, 1, 2, 2, 3, 2, 1, 2, 3, 2, 1, 0, 1, 1, 0, 0,\n",
       "        1, 1, 1, 0, 3, 0, 1, 3, 1, 2, 2, 1, 1, 2, 1, 1, 1, 3, 2, 3, 4, 1,\n",
       "        4, 1, 0, 1, 1, 0, 1, 3, 1, 1, 3, 3, 1]))"
      ]
     },
     "execution_count": 10,
     "metadata": {},
     "output_type": "execute_result"
    }
   ],
   "source": [
    "fast_lengths, fast_nstreaks"
   ]
  },
  {
   "cell_type": "code",
   "execution_count": 11,
   "id": "d2d5fc90",
   "metadata": {},
   "outputs": [
    {
     "data": {
      "text/plain": [
       "(array([  1,   2,   7,  13,  17,  25,  29,  30,  32,  33,  34,  35,  37,\n",
       "         38,  46,  55,  58,  60,  61,  67,  71,  72,  73,  74,  75,  76,\n",
       "         77,  79,  80,  81,  84,  85,  88,  89,  91,  92, 103, 115, 117,\n",
       "        122]),)"
      ]
     },
     "execution_count": 11,
     "metadata": {},
     "output_type": "execute_result"
    }
   ],
   "source": [
    "np.where(fast_nstreaks != nstreaks)"
   ]
  },
  {
   "cell_type": "code",
   "execution_count": 12,
   "id": "0ae1decf",
   "metadata": {},
   "outputs": [],
   "source": [
    "# So, why is the fast method finding more streaks than the slow method?"
   ]
  },
  {
   "cell_type": "code",
   "execution_count": 13,
   "id": "868ae945",
   "metadata": {},
   "outputs": [],
   "source": [
    "i=60\n"
   ]
  },
  {
   "cell_type": "code",
   "execution_count": 14,
   "id": "010a6c4b",
   "metadata": {},
   "outputs": [],
   "source": [
    "fast_lengths, fast_nstreaks = constellation.check_pointings(df['fieldRA'].values[i], df['fieldDec'].values[i],\n",
    "                                                           df['observationStartMJD'].values[i],\n",
    "                                                           df['visitTime'].values[i])\n"
   ]
  },
  {
   "cell_type": "code",
   "execution_count": 15,
   "id": "b0411088",
   "metadata": {},
   "outputs": [],
   "source": [
    "length, streak = constellation.check_pointing(df['altitude'].values[i], df['azimuth'].values[i],\n",
    "                                    df['observationStartMJD'].values[i], df['visitTime'].values[i])"
   ]
  },
  {
   "cell_type": "code",
   "execution_count": 16,
   "id": "53fb0f9c",
   "metadata": {},
   "outputs": [
    {
     "data": {
      "text/plain": [
       "(0, array([2]))"
      ]
     },
     "execution_count": 16,
     "metadata": {},
     "output_type": "execute_result"
    }
   ],
   "source": [
    "streak, fast_nstreaks"
   ]
  },
  {
   "cell_type": "code",
   "execution_count": 17,
   "id": "7b8289b7",
   "metadata": {},
   "outputs": [
    {
     "data": {
      "text/plain": [
       "(335.1643940702094, -67.800677738456)"
      ]
     },
     "execution_count": 17,
     "metadata": {},
     "output_type": "execute_result"
    }
   ],
   "source": [
    "df['fieldRA'].values[i], df['fieldDec'].values[i]"
   ]
  },
  {
   "cell_type": "code",
   "execution_count": 18,
   "id": "07836e98",
   "metadata": {},
   "outputs": [
    {
     "data": {
      "text/plain": [
       "(26.033737779289442, 204.7717879347459)"
      ]
     },
     "execution_count": 18,
     "metadata": {},
     "output_type": "execute_result"
    }
   ],
   "source": [
    "df['altitude'].values[i], df['azimuth'].values[i]"
   ]
  },
  {
   "cell_type": "code",
   "execution_count": 19,
   "id": "48306bc3",
   "metadata": {},
   "outputs": [],
   "source": [
    "ras1, decs1, alts1, illums1 = constellation.paths_array(df['observationStartMJD'].values[i])"
   ]
  },
  {
   "cell_type": "code",
   "execution_count": 20,
   "id": "705b02bb",
   "metadata": {
    "scrolled": true
   },
   "outputs": [
    {
     "data": {
      "text/plain": [
       "[<matplotlib.lines.Line2D at 0x13eb849d0>]"
      ]
     },
     "execution_count": 20,
     "metadata": {},
     "output_type": "execute_result"
    },
    {
     "data": {
      "image/png": "[encoded data removed]",
      "text/plain": [
       "<Figure size 432x288 with 1 Axes>"
      ]
     },
     "metadata": {
      "needs_background": "light"
     },
     "output_type": "display_data"
    }
   ],
   "source": [
    "plt.plot(np.degrees(ras1), np.degrees(decs1), 'ko')\n",
    "plt.plot(df['fieldRA'].values[i], df['fieldDec'].values[i], 'ro')"
   ]
  },
  {
   "cell_type": "code",
   "execution_count": 21,
   "id": "4c8dc4b9",
   "metadata": {},
   "outputs": [
    {
     "data": {
      "text/plain": [
       "[<matplotlib.lines.Line2D at 0x13e3904c0>]"
      ]
     },
     "execution_count": 21,
     "metadata": {},
     "output_type": "execute_result"
    },
    {
     "data": {
      "image/png": "[encoded data removed]",
      "text/plain": [
       "<Figure size 432x288 with 1 Axes>"
      ]
     },
     "metadata": {
      "needs_background": "light"
     },
     "output_type": "display_data"
    }
   ],
   "source": [
    "constellation.update_mjd(df['observationStartMJD'].values[i])\n",
    "plt.plot(np.degrees(constellation.azimuth_rad), np.degrees(constellation.altitudes_rad),'ko')\n",
    "plt.plot(df['azimuth'].values[i], df['altitude'].values[i],  'ro')"
   ]
  },
  {
   "cell_type": "code",
   "execution_count": 22,
   "id": "907090fd",
   "metadata": {},
   "outputs": [
    {
     "data": {
      "text/plain": [
       "[<matplotlib.lines.Line2D at 0x13e3c4ee0>]"
      ]
     },
     "execution_count": 22,
     "metadata": {},
     "output_type": "execute_result"
    },
    {
     "data": {
      "image/png": "[encoded data removed]",
      "text/plain": [
       "<Figure size 432x288 with 1 Axes>"
      ]
     },
     "metadata": {
      "needs_background": "light"
     },
     "output_type": "display_data"
    }
   ],
   "source": [
    "constellation.update_mjd(df['observationStartMJD'].values[i]+34/3600/24)\n",
    "plt.plot(np.degrees(constellation.azimuth_rad), np.degrees(constellation.altitudes_rad),'ko')\n",
    "plt.plot(df['azimuth'].values[i], df['altitude'].values[i],  'ro')"
   ]
  },
  {
   "cell_type": "code",
   "execution_count": null,
   "id": "a13d6cac",
   "metadata": {},
   "outputs": [],
   "source": []
  },
  {
   "cell_type": "code",
   "execution_count": null,
   "id": "ed07e746",
   "metadata": {},
   "outputs": [],
   "source": []
  },
  {
   "cell_type": "code",
   "execution_count": null,
   "id": "0aeafebf",
   "metadata": {},
   "outputs": [],
   "source": []
  },
  {
   "cell_type": "code",
   "execution_count": null,
   "id": "7deb9af1",
   "metadata": {},
   "outputs": [],
   "source": []
  }
 ],
 "metadata": {
  "kernelspec": {
   "display_name": "Python 3 (ipykernel)",
   "language": "python",
   "name": "python3"
  },
  "language_info": {
   "codemirror_mode": {
    "name": "ipython",
    "version": 3
   },
   "file_extension": ".py",
   "mimetype": "text/x-python",
   "name": "python",
   "nbconvert_exporter": "python",
   "pygments_lexer": "ipython3",
   "version": "3.9.12"
  }
 },
 "nbformat": 4,
 "nbformat_minor": 5
}
